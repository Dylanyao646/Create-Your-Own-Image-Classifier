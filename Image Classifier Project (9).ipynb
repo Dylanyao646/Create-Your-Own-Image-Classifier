{
 "cells": [
  {
   "cell_type": "markdown",
   "metadata": {},
   "source": [
    "# Developing an AI application\n",
    "\n",
    "Going forward, AI algorithms will be incorporated into more and more everyday applications. For example, you might want to include an image classifier in a smart phone app. To do this, you'd use a deep learning model trained on hundreds of thousands of images as part of the overall application architecture. A large part of software development in the future will be using these types of models as common parts of applications. \n",
    "\n",
    "In this project, you'll train an image classifier to recognize different species of flowers. You can imagine using something like this in a phone app that tells you the name of the flower your camera is looking at. In practice you'd train this classifier, then export it for use in your application. We'll be using [this dataset](http://www.robots.ox.ac.uk/~vgg/data/flowers/102/index.html) of 102 flower categories, you can see a few examples below. \n",
    "\n",
    "<img src='assets/Flowers.png' width=500px>\n",
    "\n",
    "The project is broken down into multiple steps:\n",
    "\n",
    "* Load and preprocess the image dataset\n",
    "* Train the image classifier on your dataset\n",
    "* Use the trained classifier to predict image content\n",
    "\n",
    "We'll lead you through each part which you'll implement in Python.\n",
    "\n",
    "When you've completed this project, you'll have an application that can be trained on any set of labeled images. Here your network will be learning about flowers and end up as a command line application. But, what you do with your new skills depends on your imagination and effort in building a dataset. For example, imagine an app where you take a picture of a car, it tells you what the make and model is, then looks up information about it. Go build your own dataset and make something new.\n",
    "\n",
    "First up is importing the packages you'll need. It's good practice to keep all the imports at the beginning of your code. As you work through this notebook and find you need to import a package, make sure to add the import up here."
   ]
  },
  {
   "cell_type": "code",
   "execution_count": 1,
   "metadata": {},
   "outputs": [],
   "source": [
    "# Imports here\n",
    "import torch\n",
    "from torch import nn\n",
    "from torch import optim\n",
    "import torch.nn.functional as F\n",
    "from torchvision import datasets, transforms, models\n",
    "import numpy as np\n",
    "from PIL import Image"
   ]
  },
  {
   "cell_type": "markdown",
   "metadata": {},
   "source": [
    "## Load the data\n",
    "\n",
    "Here you'll use `torchvision` to load the data ([documentation](http://pytorch.org/docs/0.3.0/torchvision/index.html)). The data should be included alongside this notebook, otherwise you can [download it here](https://s3.amazonaws.com/content.udacity-data.com/nd089/flower_data.tar.gz). The dataset is split into three parts, training, validation, and testing. For the training, you'll want to apply transformations such as random scaling, cropping, and flipping. This will help the network generalize leading to better performance. You'll also need to make sure the input data is resized to 224x224 pixels as required by the pre-trained networks.\n",
    "\n",
    "The validation and testing sets are used to measure the model's performance on data it hasn't seen yet. For this you don't want any scaling or rotation transformations, but you'll need to resize then crop the images to the appropriate size.\n",
    "\n",
    "The pre-trained networks you'll use were trained on the ImageNet dataset where each color channel was normalized separately. For all three sets you'll need to normalize the means and standard deviations of the images to what the network expects. For the means, it's `[0.485, 0.456, 0.406]` and for the standard deviations `[0.229, 0.224, 0.225]`, calculated from the ImageNet images.  These values will shift each color channel to be centered at 0 and range from -1 to 1.\n",
    " "
   ]
  },
  {
   "cell_type": "code",
   "execution_count": 2,
   "metadata": {},
   "outputs": [],
   "source": [
    "data_dir = 'flowers'\n",
    "train_dir = data_dir + '/train'\n",
    "valid_dir = data_dir + '/valid'\n",
    "test_dir = data_dir + '/test'"
   ]
  },
  {
   "cell_type": "code",
   "execution_count": 3,
   "metadata": {},
   "outputs": [],
   "source": [
    "# TODO: Define your transforms for the training, validation, and testing sets\n",
    "train_transforms = transforms.Compose([transforms.RandomRotation(30),\n",
    "                                      transforms.RandomResizedCrop(224),\n",
    "                                      transforms.RandomHorizontalFlip(),\n",
    "                                      transforms.ToTensor(),\n",
    "                                      transforms.Normalize([0.485, 0.456, 0.406],\n",
    "                                                           [0.229, 0.224, 0.225])])\n",
    "validation_transforms = transforms.Compose([transforms.Resize(225),\n",
    "                                            transforms.CenterCrop(224),\n",
    "                                            transforms.ToTensor(),\n",
    "                                            transforms.Normalize([0.485, 0.456, 0.406],\n",
    "                                                                 [0.229, 0.224, 0.225])])\n",
    "test_transforms = transforms.Compose([transforms.Resize(225),\n",
    "                                            transforms.CenterCrop(224),\n",
    "                                            transforms.ToTensor(),\n",
    "                                            transforms.Normalize([0.485, 0.456, 0.406],\n",
    "                                                                 [0.229, 0.224, 0.225])])\n",
    "# TODO: Load the datasets with ImageFolder\n",
    "train_data = datasets.ImageFolder(data_dir + '/train', transform = train_transforms)\n",
    "validation_data = datasets.ImageFolder(data_dir + '/valid', transform = validation_transforms)\n",
    "test_data = datasets.ImageFolder(data_dir + '/test', transform = test_transforms)\n",
    "\n",
    "# TODO: Using the image datasets and the trainforms, define the dataloaders\n",
    "trainloader = torch.utils.data.DataLoader(train_data, batch_size = 64, shuffle = True)\n",
    "validationloader = torch.utils.data.DataLoader(validation_data, batch_size = 64)\n",
    "testloader = torch.utils.data.DataLoader(test_data, batch_size = 64)\n",
    "\n",
    "# image_datasets is a dictionary which has train, validation and test datasets(with transforms)\n",
    "image_datasets = {\n",
    "    'train':datasets.ImageFolder(data_dir + '/train', transform = train_transforms),\n",
    "    'validation':datasets.ImageFolder(data_dir + '/valid', transform = validation_transforms),\n",
    "    'test':datasets.ImageFolder(data_dir + '/test', transform = test_transforms)\n",
    "}"
   ]
  },
  {
   "cell_type": "markdown",
   "metadata": {},
   "source": [
    "### Label mapping\n",
    "\n",
    "You'll also need to load in a mapping from category label to category name. You can find this in the file `cat_to_name.json`. It's a JSON object which you can read in with the [`json` module](https://docs.python.org/2/library/json.html). This will give you a dictionary mapping the integer encoded categories to the actual names of the flowers."
   ]
  },
  {
   "cell_type": "code",
   "execution_count": 4,
   "metadata": {},
   "outputs": [],
   "source": [
    "import json\n",
    "\n",
    "with open('cat_to_name.json', 'r') as f:\n",
    "    cat_to_name = json.load(f)"
   ]
  },
  {
   "cell_type": "markdown",
   "metadata": {},
   "source": [
    "# Building and training the classifier\n",
    "\n",
    "Now that the data is ready, it's time to build and train the classifier. As usual, you should use one of the pretrained models from `torchvision.models` to get the image features. Build and train a new feed-forward classifier using those features.\n",
    "\n",
    "We're going to leave this part up to you. Refer to [the rubric](https://review.udacity.com/#!/rubrics/1663/view) for guidance on successfully completing this section. Things you'll need to do:\n",
    "\n",
    "* Load a [pre-trained network](http://pytorch.org/docs/master/torchvision/models.html) (If you need a starting point, the VGG networks work great and are straightforward to use)\n",
    "* Define a new, untrained feed-forward network as a classifier, using ReLU activations and dropout\n",
    "* Train the classifier layers using backpropagation using the pre-trained network to get the features\n",
    "* Track the loss and accuracy on the validation set to determine the best hyperparameters\n",
    "\n",
    "We've left a cell open for you below, but use as many as you need. Our advice is to break the problem up into smaller parts you can run separately. Check that each part is doing what you expect, then move on to the next. You'll likely find that as you work through each part, you'll need to go back and modify your previous code. This is totally normal!\n",
    "\n",
    "When training make sure you're updating only the weights of the feed-forward network. You should be able to get the validation accuracy above 70% if you build everything right. Make sure to try different hyperparameters (learning rate, units in the classifier, epochs, etc) to find the best model. Save those hyperparameters to use as default values in the next part of the project.\n",
    "\n",
    "One last important tip if you're using the workspace to run your code: To avoid having your workspace disconnect during the long-running tasks in this notebook, please read in the earlier page in this lesson called Intro to\n",
    "GPU Workspaces about Keeping Your Session Active. You'll want to include code from the workspace_utils.py module.\n",
    "\n",
    "**Note for Workspace users:** If your network is over 1 GB when saved as a checkpoint, there might be issues with saving backups in your workspace. Typically this happens with wide dense layers after the convolutional layers. If your saved checkpoint is larger than 1 GB (you can open a terminal and check with `ls -lh`), you should reduce the size of your hidden layers and train again."
   ]
  },
  {
   "cell_type": "code",
   "execution_count": 5,
   "metadata": {},
   "outputs": [
    {
     "name": "stderr",
     "output_type": "stream",
     "text": [
      "Downloading: \"https://download.pytorch.org/models/vgg13-c768596a.pth\" to /root/.torch/models/vgg13-c768596a.pth\n",
      "100%|██████████| 532194478/532194478 [00:11<00:00, 45023730.45it/s]\n"
     ]
    },
    {
     "data": {
      "text/plain": [
       "VGG(\n",
       "  (features): Sequential(\n",
       "    (0): Conv2d(3, 64, kernel_size=(3, 3), stride=(1, 1), padding=(1, 1))\n",
       "    (1): ReLU(inplace)\n",
       "    (2): Conv2d(64, 64, kernel_size=(3, 3), stride=(1, 1), padding=(1, 1))\n",
       "    (3): ReLU(inplace)\n",
       "    (4): MaxPool2d(kernel_size=2, stride=2, padding=0, dilation=1, ceil_mode=False)\n",
       "    (5): Conv2d(64, 128, kernel_size=(3, 3), stride=(1, 1), padding=(1, 1))\n",
       "    (6): ReLU(inplace)\n",
       "    (7): Conv2d(128, 128, kernel_size=(3, 3), stride=(1, 1), padding=(1, 1))\n",
       "    (8): ReLU(inplace)\n",
       "    (9): MaxPool2d(kernel_size=2, stride=2, padding=0, dilation=1, ceil_mode=False)\n",
       "    (10): Conv2d(128, 256, kernel_size=(3, 3), stride=(1, 1), padding=(1, 1))\n",
       "    (11): ReLU(inplace)\n",
       "    (12): Conv2d(256, 256, kernel_size=(3, 3), stride=(1, 1), padding=(1, 1))\n",
       "    (13): ReLU(inplace)\n",
       "    (14): MaxPool2d(kernel_size=2, stride=2, padding=0, dilation=1, ceil_mode=False)\n",
       "    (15): Conv2d(256, 512, kernel_size=(3, 3), stride=(1, 1), padding=(1, 1))\n",
       "    (16): ReLU(inplace)\n",
       "    (17): Conv2d(512, 512, kernel_size=(3, 3), stride=(1, 1), padding=(1, 1))\n",
       "    (18): ReLU(inplace)\n",
       "    (19): MaxPool2d(kernel_size=2, stride=2, padding=0, dilation=1, ceil_mode=False)\n",
       "    (20): Conv2d(512, 512, kernel_size=(3, 3), stride=(1, 1), padding=(1, 1))\n",
       "    (21): ReLU(inplace)\n",
       "    (22): Conv2d(512, 512, kernel_size=(3, 3), stride=(1, 1), padding=(1, 1))\n",
       "    (23): ReLU(inplace)\n",
       "    (24): MaxPool2d(kernel_size=2, stride=2, padding=0, dilation=1, ceil_mode=False)\n",
       "  )\n",
       "  (classifier): Sequential(\n",
       "    (0): Linear(in_features=25088, out_features=4096, bias=True)\n",
       "    (1): ReLU(inplace)\n",
       "    (2): Dropout(p=0.5)\n",
       "    (3): Linear(in_features=4096, out_features=4096, bias=True)\n",
       "    (4): ReLU(inplace)\n",
       "    (5): Dropout(p=0.5)\n",
       "    (6): Linear(in_features=4096, out_features=1000, bias=True)\n",
       "  )\n",
       ")"
      ]
     },
     "execution_count": 5,
     "metadata": {},
     "output_type": "execute_result"
    }
   ],
   "source": [
    "# TODO: Build and train your network\n",
    "# Use GPU if it's available\n",
    "device = torch.device(\"cuda\" if torch.cuda.is_available() else \"cpu\")\n",
    "# Step 1 BUILD THE MODEL\n",
    "model = models.vgg13(pretrained = True)\n",
    "model\n"
   ]
  },
  {
   "cell_type": "code",
   "execution_count": 6,
   "metadata": {},
   "outputs": [
    {
     "name": "stdout",
     "output_type": "stream",
     "text": [
      "Epoch 1/1..Train loss: 5.495..Validation loss:  4.499..Validation accuracy: 0.159\n",
      "Epoch 1/1..Train loss: 4.234..Validation loss:  3.539..Validation accuracy: 0.233\n",
      "Epoch 1/1..Train loss: 3.382..Validation loss:  2.984..Validation accuracy: 0.358\n",
      "Epoch 1/1..Train loss: 3.194..Validation loss:  2.601..Validation accuracy: 0.387\n",
      "Epoch 1/1..Train loss: 2.898..Validation loss:  2.203..Validation accuracy: 0.486\n",
      "Epoch 1/1..Train loss: 2.548..Validation loss:  2.065..Validation accuracy: 0.513\n",
      "Epoch 1/1..Train loss: 2.226..Validation loss:  1.656..Validation accuracy: 0.583\n",
      "Epoch 1/1..Train loss: 2.148..Validation loss:  1.360..Validation accuracy: 0.668\n",
      "Epoch 1/1..Train loss: 1.932..Validation loss:  1.315..Validation accuracy: 0.653\n",
      "Epoch 1/1..Train loss: 1.745..Validation loss:  1.158..Validation accuracy: 0.689\n",
      "Epoch 1/1..Train loss: 1.732..Validation loss:  1.190..Validation accuracy: 0.690\n",
      "Epoch 1/1..Train loss: 1.844..Validation loss:  1.123..Validation accuracy: 0.701\n",
      "Epoch 1/1..Train loss: 1.701..Validation loss:  0.984..Validation accuracy: 0.747\n",
      "Epoch 1/1..Train loss: 1.660..Validation loss:  1.009..Validation accuracy: 0.745\n",
      "Epoch 1/1..Train loss: 1.389..Validation loss:  0.922..Validation accuracy: 0.763\n",
      "Epoch 1/1..Train loss: 1.603..Validation loss:  0.887..Validation accuracy: 0.770\n",
      "Epoch 1/1..Train loss: 1.304..Validation loss:  0.928..Validation accuracy: 0.752\n",
      "Epoch 1/1..Train loss: 1.392..Validation loss:  0.835..Validation accuracy: 0.787\n",
      "Epoch 1/1..Train loss: 1.305..Validation loss:  0.828..Validation accuracy: 0.771\n",
      "Epoch 1/1..Train loss: 1.364..Validation loss:  0.769..Validation accuracy: 0.784\n"
     ]
    }
   ],
   "source": [
    "#The classifier part in VGG model was trained on the ImageNet dataset, \n",
    "#so it won't work for our specific problem. That means we need to replace the classifier\n",
    "#Define a new, untrained feed-forward network as a classifier, using ReLU activations and dropout\n",
    "\n",
    "#Freeze parameters so we don't backprop through them\n",
    "for param in model.parameters():\n",
    "    param.requires_grad = False\n",
    "    \n",
    "# Define new classifer\n",
    "classifier = nn.Sequential(nn.Linear(25088, 1000),\n",
    "                           nn.ReLU(),\n",
    "                           nn.Dropout(p=0.2),\n",
    "                           nn.Linear(1000, 102),\n",
    "                           nn.LogSoftmax(dim=1))\n",
    "\n",
    "# Set the classifier part of the VGG model = classifier\n",
    "model.classifier = classifier\n",
    "criterion = nn.NLLLoss()\n",
    "\n",
    "# Only train the classifier parameters, feature parameters are frozen\n",
    "# Optimizers require the parameters to optimize and a learning rate\n",
    "optimizer = optim.Adam(model.classifier.parameters(), lr=0.001)\n",
    "#Move this model to available device\n",
    "model.to(device);\n",
    "\n",
    "#STEP 2 TRAIN THE MODEL\n",
    "epochs = 1\n",
    "# Tracking the train steps\n",
    "steps = 0\n",
    "# Tracking the loss\n",
    "running_loss = 0\n",
    "# How many steps we're going to go before printing out the validation loss\n",
    "print_every = 5\n",
    "\n",
    "for epoch in range(epochs):\n",
    "    # Training loop\n",
    "    for images, labels in trainloader:\n",
    "        steps += 1\n",
    "        \n",
    "        #move images and labels to GPU\n",
    "        images, labels = images.to(device), labels.to(device)\n",
    "        # We need to zero the gradients on each training pass or we'll retain gradients from previous training batches.\n",
    "        optimizer.zero_grad()\n",
    "        # Forward pass,  get our logits\n",
    "        logps = model(images)\n",
    "        # Calculate the loss with the logits and the labels\n",
    "        loss = criterion(logps, labels)\n",
    "        #then backward pass, then update weights\n",
    "        loss.backward()\n",
    "        # Take an update step and update the new weights\n",
    "        optimizer.step()\n",
    "        \n",
    "        running_loss += loss.item()\n",
    "        # STEP 3 Validation loop\n",
    "        if steps % print_every == 0:\n",
    "            # turn the model into evaluation mode (turn off dropout)\n",
    "            model.eval()\n",
    "            validation_loss = 0\n",
    "            accuracy = 0\n",
    "            # Turn off gradients for validation, saves memory and computations\n",
    "            with torch.no_grad():\n",
    "                for images, labels in validationloader:\n",
    "                \n",
    "                    images, labels = images.to(device), labels.to(device)\n",
    "                \n",
    "                    logps = model(images)\n",
    "                    loss = criterion(logps, labels)\n",
    "                    validation_loss += loss.item()\n",
    "                \n",
    "                    # Calculate the accuracy\n",
    "                    ps = torch.exp(logps)\n",
    "                    top_ps, top_class = ps.topk(1, dim=1)\n",
    "                    equality = top_class == labels.view(*top_class.shape)\n",
    "                    # Calculate accuracy from equality\n",
    "                    accuracy += torch.mean(equality.type(torch.FloatTensor))\n",
    "             \n",
    "            print(f\"Epoch {epoch+1}/{epochs}..\"\n",
    "                  f\"Train loss: {running_loss/print_every:.3f}..\"\n",
    "                  f\"Validation loss: {validation_loss/len(validationloader): .3f}..\"\n",
    "                  f\"Validation accuracy: {accuracy/len(validationloader):.3f}\")\n",
    "            \n",
    "            running_loss = 0\n",
    "            model.train()\n",
    "        "
   ]
  },
  {
   "cell_type": "markdown",
   "metadata": {},
   "source": [
    "## Testing your network\n",
    "\n",
    "It's good practice to test your trained network on test data, images the network has never seen either in training or validation. This will give you a good estimate for the model's performance on completely new images. Run the test images through the network and measure the accuracy, the same way you did validation. You should be able to reach around 70% accuracy on the test set if the model has been trained well."
   ]
  },
  {
   "cell_type": "code",
   "execution_count": 7,
   "metadata": {},
   "outputs": [
    {
     "name": "stdout",
     "output_type": "stream",
     "text": [
      "Validation loss:  0.802..Validation accuracy: 0.784\n"
     ]
    }
   ],
   "source": [
    "# TODO: Do validation on the test set\n",
    "\n",
    "\n",
    "# turn the model into evaluation mode (turn off dropout)\n",
    "model.eval()\n",
    "validation_loss = 0\n",
    "accuracy = 0\n",
    "# Turn off gradients for validation, saves memory and computations\n",
    "with torch.no_grad():\n",
    "    for images, labels in testloader:\n",
    "                \n",
    "        images, labels = images.to(device), labels.to(device)\n",
    "                \n",
    "        logps = model(images)\n",
    "        loss = criterion(logps, labels)\n",
    "        validation_loss += loss.item()\n",
    "                \n",
    "        # Calculate the accuracy\n",
    "        ps = torch.exp(logps)\n",
    "        top_ps, top_class = ps.topk(1, dim=1)\n",
    "        equality = top_class == labels.view(*top_class.shape)\n",
    "        # Calculate accuracy from equality\n",
    "        accuracy += torch.mean(equality.type(torch.FloatTensor))\n",
    "             \n",
    "print(f\"Validation loss: {validation_loss/len(testloader): .3f}..\"\n",
    "      f\"Validation accuracy: {accuracy/len(testloader):.3f}\")\n",
    "        "
   ]
  },
  {
   "cell_type": "markdown",
   "metadata": {},
   "source": [
    "## Save the checkpoint\n",
    "\n",
    "Now that your network is trained, save the model so you can load it later for making predictions. You probably want to save other things such as the mapping of classes to indices which you get from one of the image datasets: `image_datasets['train'].class_to_idx`. You can attach this to the model as an attribute which makes inference easier later on.\n",
    "\n",
    "```model.class_to_idx = image_datasets['train'].class_to_idx```\n",
    "\n",
    "Remember that you'll want to completely rebuild the model later so you can use it for inference. Make sure to include any information you need in the checkpoint. If you want to load the model and keep training, you'll want to save the number of epochs as well as the optimizer state, `optimizer.state_dict`. You'll likely want to use this trained model in the next part of the project, so best to save it now."
   ]
  },
  {
   "cell_type": "code",
   "execution_count": 8,
   "metadata": {
    "scrolled": true
   },
   "outputs": [
    {
     "data": {
      "text/plain": [
       "<bound method Optimizer.state_dict of Adam (\n",
       "Parameter Group 0\n",
       "    amsgrad: False\n",
       "    betas: (0.9, 0.999)\n",
       "    eps: 1e-08\n",
       "    lr: 0.001\n",
       "    weight_decay: 0\n",
       ")>"
      ]
     },
     "execution_count": 8,
     "metadata": {},
     "output_type": "execute_result"
    }
   ],
   "source": [
    "# TODO: Save the checkpoint \n",
    "# The parameters for PyTorch networks are stored in a model's state_dict. \n",
    "# And the state dict contains the weight and bias matrices for each of the layers.\n",
    "model.class_to_idx = image_datasets['train'].class_to_idx\n",
    "checkpoint = {'arch': 'vgg13',\n",
    "              'epochs': epochs,\n",
    "              'state_dict': model.state_dict(),\n",
    "              'class_to_idx': model.class_to_idx,\n",
    "              'optimizer_dict': optimizer.state_dict(),\n",
    "              #'optimizer': optimizer.state_dict(),\n",
    "              'input_size': 25088,\n",
    "              'output_size': 102,\n",
    "              'classifier' : classifier,\n",
    "              'learning_rate': 0.001,\n",
    "             }\n",
    "\n",
    "\n",
    "torch.save(checkpoint,'checkpoint.pth')\n",
    "optimizer.state_dict"
   ]
  },
  {
   "cell_type": "markdown",
   "metadata": {},
   "source": [
    "## Loading the checkpoint\n",
    "\n",
    "At this point it's good to write a function that can load a checkpoint and rebuild the model. That way you can come back to this project and keep working on it without having to retrain the network."
   ]
  },
  {
   "cell_type": "code",
   "execution_count": 9,
   "metadata": {},
   "outputs": [],
   "source": [
    "# TODO: Write a function that loads a checkpoint and rebuilds the model\n",
    "def load_checkpoint(filepath):\n",
    "    checkpoint = torch.load(filepath)\n",
    "    model = models.vgg13(pretrained = True)\n",
    "    model.classifier = checkpoint['classifier']\n",
    "    model.load_state_dict = checkpoint['state_dict']\n",
    "    model.class_to_idx = checkpoint['class_to_idx']\n",
    "    learning_rate = checkpoint['learning_rate']\n",
    "    optimizer = optim.Adam(model.classifier.parameters(), lr=learning_rate)\n",
    "    optimizer.load_state_dict(checkpoint['optimizer_dict'])\n",
    "    \n",
    "    return optimizer, model"
   ]
  },
  {
   "cell_type": "code",
   "execution_count": 10,
   "metadata": {},
   "outputs": [
    {
     "name": "stdout",
     "output_type": "stream",
     "text": [
      "VGG(\n",
      "  (features): Sequential(\n",
      "    (0): Conv2d(3, 64, kernel_size=(3, 3), stride=(1, 1), padding=(1, 1))\n",
      "    (1): ReLU(inplace)\n",
      "    (2): Conv2d(64, 64, kernel_size=(3, 3), stride=(1, 1), padding=(1, 1))\n",
      "    (3): ReLU(inplace)\n",
      "    (4): MaxPool2d(kernel_size=2, stride=2, padding=0, dilation=1, ceil_mode=False)\n",
      "    (5): Conv2d(64, 128, kernel_size=(3, 3), stride=(1, 1), padding=(1, 1))\n",
      "    (6): ReLU(inplace)\n",
      "    (7): Conv2d(128, 128, kernel_size=(3, 3), stride=(1, 1), padding=(1, 1))\n",
      "    (8): ReLU(inplace)\n",
      "    (9): MaxPool2d(kernel_size=2, stride=2, padding=0, dilation=1, ceil_mode=False)\n",
      "    (10): Conv2d(128, 256, kernel_size=(3, 3), stride=(1, 1), padding=(1, 1))\n",
      "    (11): ReLU(inplace)\n",
      "    (12): Conv2d(256, 256, kernel_size=(3, 3), stride=(1, 1), padding=(1, 1))\n",
      "    (13): ReLU(inplace)\n",
      "    (14): MaxPool2d(kernel_size=2, stride=2, padding=0, dilation=1, ceil_mode=False)\n",
      "    (15): Conv2d(256, 512, kernel_size=(3, 3), stride=(1, 1), padding=(1, 1))\n",
      "    (16): ReLU(inplace)\n",
      "    (17): Conv2d(512, 512, kernel_size=(3, 3), stride=(1, 1), padding=(1, 1))\n",
      "    (18): ReLU(inplace)\n",
      "    (19): MaxPool2d(kernel_size=2, stride=2, padding=0, dilation=1, ceil_mode=False)\n",
      "    (20): Conv2d(512, 512, kernel_size=(3, 3), stride=(1, 1), padding=(1, 1))\n",
      "    (21): ReLU(inplace)\n",
      "    (22): Conv2d(512, 512, kernel_size=(3, 3), stride=(1, 1), padding=(1, 1))\n",
      "    (23): ReLU(inplace)\n",
      "    (24): MaxPool2d(kernel_size=2, stride=2, padding=0, dilation=1, ceil_mode=False)\n",
      "  )\n",
      "  (classifier): Sequential(\n",
      "    (0): Linear(in_features=25088, out_features=1000, bias=True)\n",
      "    (1): ReLU()\n",
      "    (2): Dropout(p=0.2)\n",
      "    (3): Linear(in_features=1000, out_features=102, bias=True)\n",
      "    (4): LogSoftmax()\n",
      "  )\n",
      ")\n"
     ]
    }
   ],
   "source": [
    "# define a checkpoint model by calling the load_checkpoint function\n",
    "optimizer, model = load_checkpoint('checkpoint.pth')\n",
    "\n",
    "model.to(device);\n",
    "print(model)\n"
   ]
  },
  {
   "cell_type": "markdown",
   "metadata": {},
   "source": [
    "# Inference for classification\n",
    "\n",
    "Now you'll write a function to use a trained network for inference. That is, you'll pass an image into the network and predict the class of the flower in the image. Write a function called `predict` that takes an image and a model, then returns the top $K$ most likely classes along with the probabilities. It should look like \n",
    "\n",
    "```python\n",
    "probs, classes = predict(image_path, model)\n",
    "print(probs)\n",
    "print(classes)\n",
    "> [ 0.01558163  0.01541934  0.01452626  0.01443549  0.01407339]\n",
    "> ['70', '3', '45', '62', '55']\n",
    "```\n",
    "\n",
    "First you'll need to handle processing the input image such that it can be used in your network. \n",
    "\n",
    "## Image Preprocessing\n",
    "\n",
    "You'll want to use `PIL` to load the image ([documentation](https://pillow.readthedocs.io/en/latest/reference/Image.html)). It's best to write a function that preprocesses the image so it can be used as input for the model. This function should process the images in the same manner used for training. \n",
    "\n",
    "First, resize the images where the shortest side is 256 pixels, keeping the aspect ratio. This can be done with the [`thumbnail`](http://pillow.readthedocs.io/en/3.1.x/reference/Image.html#PIL.Image.Image.thumbnail) or [`resize`](http://pillow.readthedocs.io/en/3.1.x/reference/Image.html#PIL.Image.Image.thumbnail) methods. Then you'll need to crop out the center 224x224 portion of the image.\n",
    "\n",
    "Color channels of images are typically encoded as integers 0-255, but the model expected floats 0-1. You'll need to convert the values. It's easiest with a Numpy array, which you can get from a PIL image like so `np_image = np.array(pil_image)`.\n",
    "\n",
    "As before, the network expects the images to be normalized in a specific way. For the means, it's `[0.485, 0.456, 0.406]` and for the standard deviations `[0.229, 0.224, 0.225]`. You'll want to subtract the means from each color channel, then divide by the standard deviation. \n",
    "\n",
    "And finally, PyTorch expects the color channel to be the first dimension but it's the third dimension in the PIL image and Numpy array. You can reorder dimensions using [`ndarray.transpose`](https://docs.scipy.org/doc/numpy-1.13.0/reference/generated/numpy.ndarray.transpose.html). The color channel needs to be first and retain the order of the other two dimensions."
   ]
  },
  {
   "cell_type": "code",
   "execution_count": 11,
   "metadata": {},
   "outputs": [],
   "source": [
    "def process_image(image):\n",
    "    ''' Scales, crops, and normalizes a PIL image for a PyTorch model,\n",
    "        returns an Numpy array\n",
    "    '''\n",
    "    \n",
    "    # TODO: Process a PIL image for use in a PyTorch model\n",
    "    from PIL import Image\n",
    "    im = Image.open(image)\n",
    "    \n",
    "    # resize the image\n",
    "    image_size = im.size\n",
    "    width = image_size[0]\n",
    "    height = image_size[1]\n",
    "    \n",
    "    # im.thumbnail requires height and width to be tuple\n",
    "    if width > height:\n",
    "        im.thumbnail((5000000, 256)) #used the arbitrary 5000000, but any large value will work\n",
    "    else:\n",
    "        im.thumbnail((256, 5000000)) #used the arbitrary 5000000, but any large value will work\n",
    "        \n",
    "    # crop out the center 224x224 portion of the image\n",
    "    left = (width - 224)/2\n",
    "    top = (height - 224)/2\n",
    "    right = (width + 224)/2\n",
    "    bottom = (height + 224)/2\n",
    "\n",
    "    im = im.crop((left, top, right, bottom))\n",
    "    \n",
    "    # Get Numpy array image from a PIL image\n",
    "    np_image = np.array(im)\n",
    "    \n",
    "    # Normalization\n",
    "    np_image = np_image/255\n",
    "    mean = np.array([0.485, 0.456, 0.406])\n",
    "    std = np.std([0.229, 0.224, 0.225])\n",
    "    nor_image = (np_image - mean) / std\n",
    "    \n",
    "    # PyTorch tensors assume the color channel is the first dimension\n",
    "    # turn a tensor of shape [width, height, color_channels] into [color_channels, width, hight]\n",
    "    final_image = nor_image.transpose((2, 0, 1))\n",
    "    \n",
    "    #returns an Numpy array \n",
    "    return final_image\n",
    "    "
   ]
  },
  {
   "cell_type": "markdown",
   "metadata": {},
   "source": [
    "To check your work, the function below converts a PyTorch tensor and displays it in the notebook. If your `process_image` function works, running the output through this function should return the original image (except for the cropped out portions)."
   ]
  },
  {
   "cell_type": "code",
   "execution_count": 12,
   "metadata": {},
   "outputs": [],
   "source": [
    "def imshow(image, ax=None, title=None):\n",
    "    \"\"\"Imshow for Tensor.\"\"\"\n",
    "    if ax is None:\n",
    "        fig, ax = plt.subplots()\n",
    "    \n",
    "    # PyTorch tensors assume the color channel is the first dimension\n",
    "    # but matplotlib assumes is the third dimension\n",
    "    image = image.numpy().transpose((1, 2, 0))\n",
    "    \n",
    "    # Undo preprocessing\n",
    "    mean = np.array([0.485, 0.456, 0.406])\n",
    "    std = np.array([0.229, 0.224, 0.225])\n",
    "    image = std * image + mean\n",
    "    \n",
    "    # Image needs to be clipped between 0 and 1 or it looks like noise when displayed\n",
    "    image = np.clip(image, 0, 1)\n",
    "    \n",
    "    ax.imshow(image)\n",
    "    \n",
    "    return ax"
   ]
  },
  {
   "cell_type": "markdown",
   "metadata": {},
   "source": [
    "## Class Prediction\n",
    "\n",
    "Once you can get images in the correct format, it's time to write a function for making predictions with your model. A common practice is to predict the top 5 or so (usually called top-$K$) most probable classes. You'll want to calculate the class probabilities then find the $K$ largest values.\n",
    "\n",
    "To get the top $K$ largest values in a tensor use [`x.topk(k)`](http://pytorch.org/docs/master/torch.html#torch.topk). This method returns both the highest `k` probabilities and the indices of those probabilities corresponding to the classes. You need to convert from these indices to the actual class labels using `class_to_idx` which hopefully you added to the model or from an `ImageFolder` you used to load the data ([see here](#Save-the-checkpoint)). Make sure to invert the dictionary so you get a mapping from index to class as well.\n",
    "\n",
    "Again, this method should take a path to an image and a model checkpoint, then return the probabilities and classes.\n",
    "\n",
    "```python\n",
    "probs, classes = predict(image_path, model)\n",
    "print(probs)\n",
    "print(classes)\n",
    "> [ 0.01558163  0.01541934  0.01452626  0.01443549  0.01407339]\n",
    "> ['70', '3', '45', '62', '55']\n",
    "```"
   ]
  },
  {
   "cell_type": "code",
   "execution_count": 13,
   "metadata": {},
   "outputs": [],
   "source": [
    "def predict(image_path, model, topk=5):\n",
    "    ''' Predict the class (or classes) of an image using a trained deep learning model.\n",
    "    '''\n",
    "    \n",
    "    # TODO: Implement the code to predict the class from an image file\n",
    "    \n",
    "    model.eval()\n",
    "    \n",
    "    model.to(device) #We should push the input data as well as the model onto the device\n",
    "    \n",
    "    image = process_image(image_path)\n",
    "    # process_image function returns a Numpy array, we need to Convert Numpy array to a PyTorch Tensor\n",
    "    torch_image_tensor = torch.from_numpy(image).type(torch.FloatTensor)\n",
    "    torch_image_tensor.unsqueeze_(0) # this needs to be added, to add a batch dimension to the input\n",
    "    torch_image_tensor = torch_image_tensor.to(device) # The input tensor should be on the GPU!!!\n",
    "    \n",
    "    with torch.no_grad():\n",
    "        log_ps = model(torch_image_tensor)\n",
    "                \n",
    "        ps = torch.exp(log_ps)\n",
    "        probs, labels = ps.topk(5, dim=1)\n",
    "        # when we do .topk() what we get back (probs and labels) are tensors!!!\n",
    "        # We want to go from these (tensors) to iterable (a list or an array).\n",
    "        # So we should convert them to numpy array.\n",
    "        # The first thing we notice is that those tensors have been moved to cuda and tensors \n",
    "        # moved to cuda cannot be turned to numpy array. So, we move them to cpu by doing .cpu().\n",
    "        # The \"prob\" and \"labels\" are surrounded by bracket, so each of those two lists \n",
    "        # is inside a list. So we have to get the actual lists out. \n",
    "        # And we do that by indexing our result by doing [0] to get the items (the lists) inside.\n",
    "        \n",
    "    # When training, we are not using the flower name or class number as labels.\n",
    "    # We are using the index as labels in training/validation/testing. \n",
    "    # Hence, the output from prediction is also index and not flower name or class.\n",
    "    # So, we need to get back the the actual flower name from the index.\n",
    "    # For that, we do a reverse-lookup in the class_to_idx dictionary to get the class.\n",
    "    \n",
    "    # Note that if a tensor has cuda as the device we cannot turning it both \n",
    "    # into numpy arrays (.numpy()) and then lists (.tolist()). directly; \n",
    "    # we must first move it to cpu to be able to change it to a numpy array. \n",
    "    # To quickly do this we can use (.cpu())\n",
    "    \n",
    "\n",
    "    idx_to_class = {val: key for key, val in model.class_to_idx.items()}\n",
    "    probs = probs.cpu().numpy()[0]\n",
    "    classes = []\n",
    "    for label in labels.cpu().numpy()[0]: \n",
    "    \n",
    "            classes.append(idx_to_class[label]) \n",
    "    \n",
    "    print(probs)\n",
    "    print(classes)\n",
    "    return probs, classes\n",
    "    "
   ]
  },
  {
   "cell_type": "code",
   "execution_count": 14,
   "metadata": {},
   "outputs": [
    {
     "name": "stdout",
     "output_type": "stream",
     "text": [
      "[  1.00000000e+00   3.36609220e-23   8.21531842e-27   7.67401192e-27\n",
      "   2.39903343e-28]\n",
      "['95', '88', '74', '4', '93']\n"
     ]
    }
   ],
   "source": [
    "image_path = 'flowers/test/1/image_06743.jpg'\n",
    "probs, classes = predict(image_path, model)"
   ]
  },
  {
   "cell_type": "markdown",
   "metadata": {},
   "source": [
    "## Sanity Checking\n",
    "\n",
    "Now that you can use a trained model for predictions, check to make sure it makes sense. Even if the testing accuracy is high, it's always good to check that there aren't obvious bugs. Use `matplotlib` to plot the probabilities for the top 5 classes as a bar graph, along with the input image. It should look like this:\n",
    "\n",
    "<img src='assets/inference_example.png' width=300px>\n",
    "\n",
    "You can convert from the class integer encoding to actual flower names with the `cat_to_name.json` file (should have been loaded earlier in the notebook). To show a PyTorch tensor as an image, use the `imshow` function defined above."
   ]
  },
  {
   "cell_type": "code",
   "execution_count": 16,
   "metadata": {},
   "outputs": [
    {
     "name": "stdout",
     "output_type": "stream",
     "text": [
      "[  1.00000000e+00   3.36609220e-23   8.21531842e-27   7.67401192e-27\n",
      "   2.39903343e-28]\n",
      "['95', '88', '74', '4', '93']\n"
     ]
    },
    {
     "data": {
      "text/plain": [
       "Text(0.5,0,'Probabilities')"
      ]
     },
     "execution_count": 16,
     "metadata": {},
     "output_type": "execute_result"
    },
    {
     "data": {
      "image/png": "[encoded data removed]",
      "text/plain": [
       "<matplotlib.figure.Figure at 0x7f6981429438>"
      ]
     },
     "metadata": {
      "needs_background": "light"
     },
     "output_type": "display_data"
    }
   ],
   "source": [
    "# TODO: Display an image along with the top 5 classes\n",
    "import matplotlib.pyplot as plt\n",
    "from PIL import Image\n",
    "data_dir = 'flowers'\n",
    "train_dir = data_dir + '/train'\n",
    "valid_dir = data_dir + '/valid'\n",
    "test_dir = data_dir + '/test'\n",
    "check_image = Image.open(test_dir + '/1/image_06743.jpg')\n",
    "img_name = cat_to_name['1']\n",
    "\n",
    "probs, classes = predict(test_dir + '/1/image_06743.jpg', model)\n",
    "\n",
    "names = [cat_to_name[img_class] for img_class in classes]\n",
    "\n",
    "plt.subplot(2, 1, 1)\n",
    "plt.title(img_name)\n",
    "plt.imshow(check_image)\n",
    "\n",
    "plt.subplot(2, 1, 2)\n",
    "plt.barh(names, probs)\n",
    "plt.xlabel('Probabilities')"
   ]
  },
  {
   "cell_type": "code",
   "execution_count": null,
   "metadata": {},
   "outputs": [],
   "source": []
  }
 ],
 "metadata": {
  "kernelspec": {
   "display_name": "Python 3",
   "language": "python",
   "name": "python3"
  },
  "language_info": {
   "codemirror_mode": {
    "name": "ipython",
    "version": 3
   },
   "file_extension": ".py",
   "mimetype": "text/x-python",
   "name": "python",
   "nbconvert_exporter": "python",
   "pygments_lexer": "ipython3",
   "version": "3.6.3"
  }
 },
 "nbformat": 4,
 "nbformat_minor": 2
}
